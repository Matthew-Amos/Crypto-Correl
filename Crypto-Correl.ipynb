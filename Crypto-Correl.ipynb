{
 "cells": [
  {
   "cell_type": "markdown",
   "id": "1914b9af-4f23-4db6-9e4c-f88984b865cd",
   "metadata": {},
   "source": [
    "# Setup.\n",
    "---"
   ]
  },
  {
   "cell_type": "code",
   "execution_count": 1,
   "id": "obvious-offer",
   "metadata": {},
   "outputs": [],
   "source": [
    "# Libraries.\n",
    "import pandas as pd\n",
    "import numpy as np\n",
    "import requests\n",
    "import os\n",
    "import io\n",
    "import datetime\n",
    "import matplotlib.pyplot as plt\n",
    "\n",
    "# Global Constants.\n",
    "API_KEY = os.environ[\"ALPHA_VANTAGE_API_KEY\"]\n",
    "DIR_CACHE = os.path.join(os.getcwd(), 'cache')\n",
    "\n",
    "# Settings.\n",
    "plt.rcParams[\"figure.figsize\"] = 20, 8"
   ]
  },
  {
   "cell_type": "markdown",
   "id": "b25d515e-b2df-4861-ab41-e5f195aee386",
   "metadata": {},
   "source": [
    "# Common Function Definitions.\n",
    "---"
   ]
  },
  {
   "cell_type": "code",
   "execution_count": 2,
   "id": "66ba1ff5-63eb-4ad6-9b43-cecff1244bb8",
   "metadata": {},
   "outputs": [],
   "source": [
    "def cache_path(file):\n",
    "    return os.path.join(DIR_CACHE, file)\n",
    "\n",
    "def cache_exists(file):\n",
    "    return os.path.exists(cache_path(file))\n",
    "\n",
    "def read_cache(file, **args):\n",
    "    return pd.read_csv(cache_path(file), **args)\n",
    "\n",
    "def write_cache(data, file, **args):\n",
    "    data.to_csv(cache_path(file), **args)\n",
    "\n",
    "def api_call(asset, params):\n",
    "    def param_list():\n",
    "        pl = \"\"\n",
    "        for p in params.keys():\n",
    "            pl += f\"&{p}={params[p]}\"\n",
    "        return pl\n",
    "    \n",
    "    return \"https://www.alphavantage.co/query?\" \\\n",
    "        f\"function={asset}\" \\\n",
    "        f\"{param_list()}\" \\\n",
    "        f\"&apikey={API_KEY}\"\n",
    "    \n",
    "def req_to_csv(url):\n",
    "    r = requests.get(url).content\n",
    "    return pd.read_csv(io.StringIO(r.decode('utf-8')))\n",
    "\n",
    "# Deprecated.\n",
    "#def yyyymmdd_to_yyyymm(d):\n",
    "#    return d[0:7]\n",
    "\n",
    "def retrieve_assets(symbols, query_handler):\n",
    "    assets = {}\n",
    "\n",
    "    for sym in symbols:\n",
    "        print(f\"Retrieving {sym}...\", end='')\n",
    "        fname = f\"{sym}.csv\"\n",
    "        if not cache_exists(fname):\n",
    "            print('querying...', end='')\n",
    "            asset = query_handler(sym)\n",
    "            write_cache(asset, fname, index=False)\n",
    "        else:\n",
    "            print('reading...', end='')\n",
    "            asset = read_cache(fname)\n",
    "        print('done.')\n",
    "        assets[sym] = asset\n",
    "    \n",
    "    return assets"
   ]
  },
  {
   "cell_type": "markdown",
   "id": "related-packing",
   "metadata": {},
   "source": [
    "## Equity Assets.\n",
    "---"
   ]
  },
  {
   "cell_type": "code",
   "execution_count": 3,
   "id": "b7371741-f85d-45d3-a070-18645f2fae0a",
   "metadata": {},
   "outputs": [],
   "source": [
    "def equity_query_handler(sym):\n",
    "        call = api_call('TIME_SERIES_DAILY', {\n",
    "            'symbol': sym,\n",
    "            'datatype': 'csv',\n",
    "            'outputsize': 'full',\n",
    "        })\n",
    "        \n",
    "        eq = req_to_csv(call)\n",
    "        return eq"
   ]
  },
  {
   "cell_type": "code",
   "execution_count": 4,
   "id": "068c8ccd-445b-41f4-b388-355cff3e9eb1",
   "metadata": {},
   "outputs": [
    {
     "name": "stdout",
     "output_type": "stream",
     "text": [
      "Retrieving VTI...reading...done.\n"
     ]
    }
   ],
   "source": [
    "equity_symbols = ['VTI']\n",
    "equity = retrieve_assets(equity_symbols, equity_query_handler)"
   ]
  },
  {
   "cell_type": "markdown",
   "id": "chief-amino",
   "metadata": {
    "tags": []
   },
   "source": [
    "## Digital Currency Assets.\n",
    "---"
   ]
  },
  {
   "cell_type": "code",
   "execution_count": 5,
   "id": "20feecca-62c1-433e-90d6-7bb5085eadea",
   "metadata": {},
   "outputs": [],
   "source": [
    "def crypto_query_handler(sym):\n",
    "        call = api_call('DIGITAL_CURRENCY_DAILY', {\n",
    "            'symbol': sym,\n",
    "            'datatype': 'csv',\n",
    "            'market': 'USD',\n",
    "        })\n",
    "        \n",
    "        cr = req_to_csv(call)\n",
    "        return cr"
   ]
  },
  {
   "cell_type": "code",
   "execution_count": 6,
   "id": "e71a4367-3c57-45fa-ad40-8e06a63ad68f",
   "metadata": {},
   "outputs": [
    {
     "name": "stdout",
     "output_type": "stream",
     "text": [
      "Retrieving BTC...reading...done.\n",
      "Retrieving ETH...reading...done.\n"
     ]
    }
   ],
   "source": [
    "crypto_symbols = ['BTC', 'ETH']\n",
    "crypto = retrieve_assets(crypto_symbols, crypto_query_handler)"
   ]
  },
  {
   "cell_type": "markdown",
   "id": "588c617a-fee8-4b19-a3f6-b202ac5ba7e8",
   "metadata": {},
   "source": [
    "# Preprocess Assets.\n",
    "---"
   ]
  },
  {
   "cell_type": "code",
   "execution_count": 7,
   "id": "675d9387-41ef-4dac-b979-a0e881a40052",
   "metadata": {},
   "outputs": [],
   "source": [
    "def preprocess_equity(dt, k):\n",
    "    dt['timestamp'] = dt.timestamp.apply(lambda d: datetime.datetime.strptime(d, '%Y-%m-%d'))\n",
    "    dt = dt.rename(columns={'timestamp': 'date'})\n",
    "    \n",
    "    for c in ['open', 'high', 'low', 'close', 'volume']:\n",
    "        dt = dt.rename(columns={c: f\"{k}_{c}\"})\n",
    "    \n",
    "    return dt\n",
    "\n",
    "for eq in equity.keys():\n",
    "    equity[eq] = preprocess_equity(equity[eq], eq)"
   ]
  },
  {
   "cell_type": "code",
   "execution_count": 8,
   "id": "fef8de21-2ae7-47e7-86a0-565dce58c191",
   "metadata": {},
   "outputs": [],
   "source": [
    "def preprocess_crypto(dt, k):\n",
    "    dt['timestamp'] = dt.timestamp.apply(lambda d: datetime.datetime.strptime(d, '%Y-%m-%d'))\n",
    "    dt = dt.rename(columns={'timestamp': 'date'})\n",
    "    \n",
    "    for c in ['open (USD)', 'high (USD)', 'low (USD)', 'close (USD)', 'volume', 'market cap (USD)']:\n",
    "        dt = dt.rename(columns={c: f\"{k}_{c}\"})\n",
    "    \n",
    "    return dt\n",
    "\n",
    "for cr in crypto.keys():\n",
    "    crypto[cr] = preprocess_crypto(crypto[cr], cr)"
   ]
  },
  {
   "cell_type": "markdown",
   "id": "5b220394-dbe4-45a9-a954-6165e32d0ac8",
   "metadata": {},
   "source": [
    "# Merge Assets.\n",
    "---"
   ]
  },
  {
   "cell_type": "code",
   "execution_count": 9,
   "id": "68003696-58a5-4e96-b1e0-58c9b8f6ab92",
   "metadata": {},
   "outputs": [
    {
     "name": "stderr",
     "output_type": "stream",
     "text": [
      "/tmp/ipykernel_44117/664067231.py:4: FutureWarning: Comparison of Timestamp with datetime.date is deprecated in order to match the standard library behavior.  In a future version these will be considered non-comparable.Use 'ts == pd.Timestamp(date)' or 'ts.date() == date' instead.\n",
      "  dmin = min(dmin, equity[eq].date.min())\n",
      "/tmp/ipykernel_44117/664067231.py:5: FutureWarning: Comparison of Timestamp with datetime.date is deprecated in order to match the standard library behavior.  In a future version these will be considered non-comparable.Use 'ts == pd.Timestamp(date)' or 'ts.date() == date' instead.\n",
      "  dmax = max(dmax, equity[eq].date.max())\n"
     ]
    }
   ],
   "source": [
    "# Instantiate combined table with an index.\n",
    "dmin, dmax = datetime.date.today(), datetime.date.today()\n",
    "for eq in equity.keys():\n",
    "    dmin = min(dmin, equity[eq].date.min())\n",
    "    dmax = max(dmax, equity[eq].date.max())\n",
    "\n",
    "# Last couple of days tend to be blank in the API.\n",
    "dmax = min(dmax, datetime.date(2022, 5, 1))\n",
    "\n",
    "dt = pd.DataFrame({'date': np.arange(dmin, dmax, dtype='datetime64[D]')})"
   ]
  },
  {
   "cell_type": "code",
   "execution_count": 10,
   "id": "b43f0f38-e6d2-4c6e-9e46-4b8d05b7e567",
   "metadata": {},
   "outputs": [],
   "source": [
    "# Merge equities.\n",
    "for eq in equity.keys():\n",
    "    dt = dt.merge(equity[eq][['date', f\"{eq}_close\"]], on='date', how='left')"
   ]
  },
  {
   "cell_type": "code",
   "execution_count": 11,
   "id": "14bd4cba-4c81-4e11-8d09-c53d2b272578",
   "metadata": {},
   "outputs": [],
   "source": [
    "# Merge digital currencies.\n",
    "for cr in crypto.keys():\n",
    "    dt = dt.merge(crypto[cr][['date', f\"{cr}_close (USD)\"]], on='date', how='left')"
   ]
  },
  {
   "cell_type": "code",
   "execution_count": 12,
   "id": "3e2cab64-1a40-4245-9a60-75f30db66506",
   "metadata": {},
   "outputs": [],
   "source": [
    "dt.set_index('date', inplace=True)"
   ]
  },
  {
   "cell_type": "code",
   "execution_count": 13,
   "id": "7e6dde61-1ff6-4115-a2f5-2fe0f5e3395a",
   "metadata": {},
   "outputs": [
    {
     "data": {
      "text/html": [
       "<div>\n",
       "<style scoped>\n",
       "    .dataframe tbody tr th:only-of-type {\n",
       "        vertical-align: middle;\n",
       "    }\n",
       "\n",
       "    .dataframe tbody tr th {\n",
       "        vertical-align: top;\n",
       "    }\n",
       "\n",
       "    .dataframe thead th {\n",
       "        text-align: right;\n",
       "    }\n",
       "</style>\n",
       "<table border=\"1\" class=\"dataframe\">\n",
       "  <thead>\n",
       "    <tr style=\"text-align: right;\">\n",
       "      <th></th>\n",
       "      <th>VTI_close</th>\n",
       "      <th>BTC_close (USD)</th>\n",
       "      <th>ETH_close (USD)</th>\n",
       "    </tr>\n",
       "    <tr>\n",
       "      <th>date</th>\n",
       "      <th></th>\n",
       "      <th></th>\n",
       "      <th></th>\n",
       "    </tr>\n",
       "  </thead>\n",
       "  <tbody>\n",
       "    <tr>\n",
       "      <th>2001-05-31</th>\n",
       "      <td>114.8</td>\n",
       "      <td>NaN</td>\n",
       "      <td>NaN</td>\n",
       "    </tr>\n",
       "    <tr>\n",
       "      <th>2001-06-01</th>\n",
       "      <td>115.6</td>\n",
       "      <td>NaN</td>\n",
       "      <td>NaN</td>\n",
       "    </tr>\n",
       "    <tr>\n",
       "      <th>2001-06-02</th>\n",
       "      <td>NaN</td>\n",
       "      <td>NaN</td>\n",
       "      <td>NaN</td>\n",
       "    </tr>\n",
       "    <tr>\n",
       "      <th>2001-06-03</th>\n",
       "      <td>NaN</td>\n",
       "      <td>NaN</td>\n",
       "      <td>NaN</td>\n",
       "    </tr>\n",
       "    <tr>\n",
       "      <th>2001-06-04</th>\n",
       "      <td>116.1</td>\n",
       "      <td>NaN</td>\n",
       "      <td>NaN</td>\n",
       "    </tr>\n",
       "  </tbody>\n",
       "</table>\n",
       "</div>"
      ],
      "text/plain": [
       "            VTI_close  BTC_close (USD)  ETH_close (USD)\n",
       "date                                                   \n",
       "2001-05-31      114.8              NaN              NaN\n",
       "2001-06-01      115.6              NaN              NaN\n",
       "2001-06-02        NaN              NaN              NaN\n",
       "2001-06-03        NaN              NaN              NaN\n",
       "2001-06-04      116.1              NaN              NaN"
      ]
     },
     "execution_count": 13,
     "metadata": {},
     "output_type": "execute_result"
    }
   ],
   "source": [
    "dt.head()"
   ]
  },
  {
   "cell_type": "code",
   "execution_count": 14,
   "id": "9fe7492c-8bd7-41ce-bf18-f8ae5eff1ad9",
   "metadata": {},
   "outputs": [
    {
     "data": {
      "text/html": [
       "<div>\n",
       "<style scoped>\n",
       "    .dataframe tbody tr th:only-of-type {\n",
       "        vertical-align: middle;\n",
       "    }\n",
       "\n",
       "    .dataframe tbody tr th {\n",
       "        vertical-align: top;\n",
       "    }\n",
       "\n",
       "    .dataframe thead th {\n",
       "        text-align: right;\n",
       "    }\n",
       "</style>\n",
       "<table border=\"1\" class=\"dataframe\">\n",
       "  <thead>\n",
       "    <tr style=\"text-align: right;\">\n",
       "      <th></th>\n",
       "      <th>VTI_close</th>\n",
       "      <th>BTC_close (USD)</th>\n",
       "      <th>ETH_close (USD)</th>\n",
       "    </tr>\n",
       "    <tr>\n",
       "      <th>date</th>\n",
       "      <th></th>\n",
       "      <th></th>\n",
       "      <th></th>\n",
       "    </tr>\n",
       "  </thead>\n",
       "  <tbody>\n",
       "    <tr>\n",
       "      <th>2022-04-21</th>\n",
       "      <td>220.22</td>\n",
       "      <td>40480.01</td>\n",
       "      <td>2983.58</td>\n",
       "    </tr>\n",
       "    <tr>\n",
       "      <th>2022-04-22</th>\n",
       "      <td>214.22</td>\n",
       "      <td>39709.18</td>\n",
       "      <td>2962.39</td>\n",
       "    </tr>\n",
       "    <tr>\n",
       "      <th>2022-04-23</th>\n",
       "      <td>NaN</td>\n",
       "      <td>39441.60</td>\n",
       "      <td>2933.03</td>\n",
       "    </tr>\n",
       "    <tr>\n",
       "      <th>2022-04-24</th>\n",
       "      <td>NaN</td>\n",
       "      <td>39450.13</td>\n",
       "      <td>2921.00</td>\n",
       "    </tr>\n",
       "    <tr>\n",
       "      <th>2022-04-25</th>\n",
       "      <td>215.39</td>\n",
       "      <td>40426.08</td>\n",
       "      <td>3006.62</td>\n",
       "    </tr>\n",
       "    <tr>\n",
       "      <th>2022-04-26</th>\n",
       "      <td>209.25</td>\n",
       "      <td>38112.65</td>\n",
       "      <td>2809.67</td>\n",
       "    </tr>\n",
       "    <tr>\n",
       "      <th>2022-04-27</th>\n",
       "      <td>209.66</td>\n",
       "      <td>39235.72</td>\n",
       "      <td>2888.96</td>\n",
       "    </tr>\n",
       "    <tr>\n",
       "      <th>2022-04-28</th>\n",
       "      <td>214.77</td>\n",
       "      <td>39742.07</td>\n",
       "      <td>2936.93</td>\n",
       "    </tr>\n",
       "    <tr>\n",
       "      <th>2022-04-29</th>\n",
       "      <td>206.88</td>\n",
       "      <td>38596.11</td>\n",
       "      <td>2817.13</td>\n",
       "    </tr>\n",
       "    <tr>\n",
       "      <th>2022-04-30</th>\n",
       "      <td>NaN</td>\n",
       "      <td>37630.80</td>\n",
       "      <td>2726.66</td>\n",
       "    </tr>\n",
       "  </tbody>\n",
       "</table>\n",
       "</div>"
      ],
      "text/plain": [
       "            VTI_close  BTC_close (USD)  ETH_close (USD)\n",
       "date                                                   \n",
       "2022-04-21     220.22         40480.01          2983.58\n",
       "2022-04-22     214.22         39709.18          2962.39\n",
       "2022-04-23        NaN         39441.60          2933.03\n",
       "2022-04-24        NaN         39450.13          2921.00\n",
       "2022-04-25     215.39         40426.08          3006.62\n",
       "2022-04-26     209.25         38112.65          2809.67\n",
       "2022-04-27     209.66         39235.72          2888.96\n",
       "2022-04-28     214.77         39742.07          2936.93\n",
       "2022-04-29     206.88         38596.11          2817.13\n",
       "2022-04-30        NaN         37630.80          2726.66"
      ]
     },
     "execution_count": 14,
     "metadata": {},
     "output_type": "execute_result"
    }
   ],
   "source": [
    "dt.tail(10)"
   ]
  },
  {
   "cell_type": "markdown",
   "id": "5845c9a2-11ad-4478-9d74-c7348d40e583",
   "metadata": {},
   "source": [
    "# Transform.\n",
    "---"
   ]
  },
  {
   "cell_type": "code",
   "execution_count": 15,
   "id": "890d5a23-7be7-4892-a60d-c02b5a0931cb",
   "metadata": {},
   "outputs": [],
   "source": [
    "# Returns.\n",
    "R = dt / dt.shift() - 1.00\n",
    "\n",
    "# Forward fill - makes holidays/weekends the prior close for equities, crypto unaffected.\n",
    "R = R.ffill()"
   ]
  },
  {
   "cell_type": "code",
   "execution_count": 16,
   "id": "94d097b7-5ea7-4b5d-b386-dd2ba324d57b",
   "metadata": {},
   "outputs": [
    {
     "data": {
      "text/html": [
       "<div>\n",
       "<style scoped>\n",
       "    .dataframe tbody tr th:only-of-type {\n",
       "        vertical-align: middle;\n",
       "    }\n",
       "\n",
       "    .dataframe tbody tr th {\n",
       "        vertical-align: top;\n",
       "    }\n",
       "\n",
       "    .dataframe thead th {\n",
       "        text-align: right;\n",
       "    }\n",
       "</style>\n",
       "<table border=\"1\" class=\"dataframe\">\n",
       "  <thead>\n",
       "    <tr style=\"text-align: right;\">\n",
       "      <th></th>\n",
       "      <th>VTI_close</th>\n",
       "      <th>BTC_close (USD)</th>\n",
       "      <th>ETH_close (USD)</th>\n",
       "    </tr>\n",
       "    <tr>\n",
       "      <th>date</th>\n",
       "      <th></th>\n",
       "      <th></th>\n",
       "      <th></th>\n",
       "    </tr>\n",
       "  </thead>\n",
       "  <tbody>\n",
       "    <tr>\n",
       "      <th>2022-04-26</th>\n",
       "      <td>209.25</td>\n",
       "      <td>38112.65</td>\n",
       "      <td>2809.67</td>\n",
       "    </tr>\n",
       "    <tr>\n",
       "      <th>2022-04-27</th>\n",
       "      <td>209.66</td>\n",
       "      <td>39235.72</td>\n",
       "      <td>2888.96</td>\n",
       "    </tr>\n",
       "    <tr>\n",
       "      <th>2022-04-28</th>\n",
       "      <td>214.77</td>\n",
       "      <td>39742.07</td>\n",
       "      <td>2936.93</td>\n",
       "    </tr>\n",
       "    <tr>\n",
       "      <th>2022-04-29</th>\n",
       "      <td>206.88</td>\n",
       "      <td>38596.11</td>\n",
       "      <td>2817.13</td>\n",
       "    </tr>\n",
       "    <tr>\n",
       "      <th>2022-04-30</th>\n",
       "      <td>NaN</td>\n",
       "      <td>37630.80</td>\n",
       "      <td>2726.66</td>\n",
       "    </tr>\n",
       "  </tbody>\n",
       "</table>\n",
       "</div>"
      ],
      "text/plain": [
       "            VTI_close  BTC_close (USD)  ETH_close (USD)\n",
       "date                                                   \n",
       "2022-04-26     209.25         38112.65          2809.67\n",
       "2022-04-27     209.66         39235.72          2888.96\n",
       "2022-04-28     214.77         39742.07          2936.93\n",
       "2022-04-29     206.88         38596.11          2817.13\n",
       "2022-04-30        NaN         37630.80          2726.66"
      ]
     },
     "execution_count": 16,
     "metadata": {},
     "output_type": "execute_result"
    }
   ],
   "source": [
    "dt.tail()"
   ]
  },
  {
   "cell_type": "code",
   "execution_count": 17,
   "id": "b9b92386-4ae4-4bb9-b588-b790a7a3da0a",
   "metadata": {},
   "outputs": [
    {
     "data": {
      "text/html": [
       "<div>\n",
       "<style scoped>\n",
       "    .dataframe tbody tr th:only-of-type {\n",
       "        vertical-align: middle;\n",
       "    }\n",
       "\n",
       "    .dataframe tbody tr th {\n",
       "        vertical-align: top;\n",
       "    }\n",
       "\n",
       "    .dataframe thead th {\n",
       "        text-align: right;\n",
       "    }\n",
       "</style>\n",
       "<table border=\"1\" class=\"dataframe\">\n",
       "  <thead>\n",
       "    <tr style=\"text-align: right;\">\n",
       "      <th></th>\n",
       "      <th>VTI_close</th>\n",
       "      <th>BTC_close (USD)</th>\n",
       "      <th>ETH_close (USD)</th>\n",
       "    </tr>\n",
       "    <tr>\n",
       "      <th>date</th>\n",
       "      <th></th>\n",
       "      <th></th>\n",
       "      <th></th>\n",
       "    </tr>\n",
       "  </thead>\n",
       "  <tbody>\n",
       "    <tr>\n",
       "      <th>2022-04-26</th>\n",
       "      <td>-0.028506</td>\n",
       "      <td>-0.057226</td>\n",
       "      <td>-0.065505</td>\n",
       "    </tr>\n",
       "    <tr>\n",
       "      <th>2022-04-27</th>\n",
       "      <td>0.001959</td>\n",
       "      <td>0.029467</td>\n",
       "      <td>0.028220</td>\n",
       "    </tr>\n",
       "    <tr>\n",
       "      <th>2022-04-28</th>\n",
       "      <td>0.024373</td>\n",
       "      <td>0.012905</td>\n",
       "      <td>0.016605</td>\n",
       "    </tr>\n",
       "    <tr>\n",
       "      <th>2022-04-29</th>\n",
       "      <td>-0.036737</td>\n",
       "      <td>-0.028835</td>\n",
       "      <td>-0.040791</td>\n",
       "    </tr>\n",
       "    <tr>\n",
       "      <th>2022-04-30</th>\n",
       "      <td>-0.036737</td>\n",
       "      <td>-0.025011</td>\n",
       "      <td>-0.032114</td>\n",
       "    </tr>\n",
       "  </tbody>\n",
       "</table>\n",
       "</div>"
      ],
      "text/plain": [
       "            VTI_close  BTC_close (USD)  ETH_close (USD)\n",
       "date                                                   \n",
       "2022-04-26  -0.028506        -0.057226        -0.065505\n",
       "2022-04-27   0.001959         0.029467         0.028220\n",
       "2022-04-28   0.024373         0.012905         0.016605\n",
       "2022-04-29  -0.036737        -0.028835        -0.040791\n",
       "2022-04-30  -0.036737        -0.025011        -0.032114"
      ]
     },
     "execution_count": 17,
     "metadata": {},
     "output_type": "execute_result"
    }
   ],
   "source": [
    "R.tail()"
   ]
  },
  {
   "cell_type": "markdown",
   "id": "a593bd0a-5e4f-4a58-9bdd-d698532faf47",
   "metadata": {
    "tags": []
   },
   "source": [
    "# Cross-Sectional Correlation.\n",
    "---"
   ]
  },
  {
   "cell_type": "code",
   "execution_count": 18,
   "id": "466af0f1-81db-459a-a774-10ef532e56ff",
   "metadata": {},
   "outputs": [],
   "source": [
    "def weekday_ind(idx, weekdays):\n",
    "    return [x in weekdays for x in idx]\n",
    "\n",
    "def weekday_nind(idx, weekdays):\n",
    "    return [not x for x in weekday_ind(idx, weekdays)]"
   ]
  },
  {
   "cell_type": "code",
   "execution_count": 19,
   "id": "2ea9bc22-2c5d-4be1-a451-e638ef7998bd",
   "metadata": {},
   "outputs": [
    {
     "data": {
      "text/html": [
       "<div>\n",
       "<style scoped>\n",
       "    .dataframe tbody tr th:only-of-type {\n",
       "        vertical-align: middle;\n",
       "    }\n",
       "\n",
       "    .dataframe tbody tr th {\n",
       "        vertical-align: top;\n",
       "    }\n",
       "\n",
       "    .dataframe thead th {\n",
       "        text-align: right;\n",
       "    }\n",
       "</style>\n",
       "<table border=\"1\" class=\"dataframe\">\n",
       "  <thead>\n",
       "    <tr style=\"text-align: right;\">\n",
       "      <th></th>\n",
       "      <th>VTI_close</th>\n",
       "      <th>BTC_close (USD)</th>\n",
       "      <th>ETH_close (USD)</th>\n",
       "    </tr>\n",
       "  </thead>\n",
       "  <tbody>\n",
       "    <tr>\n",
       "      <th>VTI_close</th>\n",
       "      <td>1.000000</td>\n",
       "      <td>0.261869</td>\n",
       "      <td>0.251961</td>\n",
       "    </tr>\n",
       "    <tr>\n",
       "      <th>BTC_close (USD)</th>\n",
       "      <td>0.261869</td>\n",
       "      <td>1.000000</td>\n",
       "      <td>0.841505</td>\n",
       "    </tr>\n",
       "    <tr>\n",
       "      <th>ETH_close (USD)</th>\n",
       "      <td>0.251961</td>\n",
       "      <td>0.841505</td>\n",
       "      <td>1.000000</td>\n",
       "    </tr>\n",
       "  </tbody>\n",
       "</table>\n",
       "</div>"
      ],
      "text/plain": [
       "                 VTI_close  BTC_close (USD)  ETH_close (USD)\n",
       "VTI_close         1.000000         0.261869         0.251961\n",
       "BTC_close (USD)   0.261869         1.000000         0.841505\n",
       "ETH_close (USD)   0.251961         0.841505         1.000000"
      ]
     },
     "execution_count": 19,
     "metadata": {},
     "output_type": "execute_result"
    }
   ],
   "source": [
    "# Don't include common market close days: 5 = sat, 6 = sun\n",
    "R.loc[weekday_nind(R.index.dayofweek, [5, 6])].corr()"
   ]
  },
  {
   "cell_type": "markdown",
   "id": "607a51ab-b22f-478b-8a4a-0e7dd9e8960a",
   "metadata": {
    "tags": []
   },
   "source": [
    "# Leading Correlation.\n",
    "---"
   ]
  },
  {
   "cell_type": "code",
   "execution_count": 20,
   "id": "d1f6c518-26ad-4019-afc3-b5f7cdc95551",
   "metadata": {},
   "outputs": [],
   "source": [
    "# VTI return from prior day.\n",
    "R['VTI_Lag1'] = R['VTI_close'].shift()"
   ]
  },
  {
   "cell_type": "code",
   "execution_count": 21,
   "id": "3048ef9f-b8e0-4736-906c-8ced297a2cb0",
   "metadata": {},
   "outputs": [
    {
     "data": {
      "text/html": [
       "<div>\n",
       "<style scoped>\n",
       "    .dataframe tbody tr th:only-of-type {\n",
       "        vertical-align: middle;\n",
       "    }\n",
       "\n",
       "    .dataframe tbody tr th {\n",
       "        vertical-align: top;\n",
       "    }\n",
       "\n",
       "    .dataframe thead th {\n",
       "        text-align: right;\n",
       "    }\n",
       "</style>\n",
       "<table border=\"1\" class=\"dataframe\">\n",
       "  <thead>\n",
       "    <tr style=\"text-align: right;\">\n",
       "      <th></th>\n",
       "      <th>VTI_close</th>\n",
       "      <th>BTC_close (USD)</th>\n",
       "      <th>ETH_close (USD)</th>\n",
       "      <th>VTI_Lag1</th>\n",
       "    </tr>\n",
       "    <tr>\n",
       "      <th>date</th>\n",
       "      <th></th>\n",
       "      <th></th>\n",
       "      <th></th>\n",
       "      <th></th>\n",
       "    </tr>\n",
       "  </thead>\n",
       "  <tbody>\n",
       "    <tr>\n",
       "      <th>2022-04-21</th>\n",
       "      <td>-0.016348</td>\n",
       "      <td>-0.021234</td>\n",
       "      <td>-0.030058</td>\n",
       "      <td>-0.001294</td>\n",
       "    </tr>\n",
       "    <tr>\n",
       "      <th>2022-04-22</th>\n",
       "      <td>-0.027245</td>\n",
       "      <td>-0.019042</td>\n",
       "      <td>-0.007102</td>\n",
       "      <td>-0.016348</td>\n",
       "    </tr>\n",
       "    <tr>\n",
       "      <th>2022-04-23</th>\n",
       "      <td>-0.027245</td>\n",
       "      <td>-0.006738</td>\n",
       "      <td>-0.009911</td>\n",
       "      <td>-0.027245</td>\n",
       "    </tr>\n",
       "    <tr>\n",
       "      <th>2022-04-24</th>\n",
       "      <td>-0.027245</td>\n",
       "      <td>0.000216</td>\n",
       "      <td>-0.004102</td>\n",
       "      <td>-0.027245</td>\n",
       "    </tr>\n",
       "    <tr>\n",
       "      <th>2022-04-25</th>\n",
       "      <td>-0.027245</td>\n",
       "      <td>0.024739</td>\n",
       "      <td>0.029312</td>\n",
       "      <td>-0.027245</td>\n",
       "    </tr>\n",
       "    <tr>\n",
       "      <th>2022-04-26</th>\n",
       "      <td>-0.028506</td>\n",
       "      <td>-0.057226</td>\n",
       "      <td>-0.065505</td>\n",
       "      <td>-0.027245</td>\n",
       "    </tr>\n",
       "    <tr>\n",
       "      <th>2022-04-27</th>\n",
       "      <td>0.001959</td>\n",
       "      <td>0.029467</td>\n",
       "      <td>0.028220</td>\n",
       "      <td>-0.028506</td>\n",
       "    </tr>\n",
       "    <tr>\n",
       "      <th>2022-04-28</th>\n",
       "      <td>0.024373</td>\n",
       "      <td>0.012905</td>\n",
       "      <td>0.016605</td>\n",
       "      <td>0.001959</td>\n",
       "    </tr>\n",
       "    <tr>\n",
       "      <th>2022-04-29</th>\n",
       "      <td>-0.036737</td>\n",
       "      <td>-0.028835</td>\n",
       "      <td>-0.040791</td>\n",
       "      <td>0.024373</td>\n",
       "    </tr>\n",
       "    <tr>\n",
       "      <th>2022-04-30</th>\n",
       "      <td>-0.036737</td>\n",
       "      <td>-0.025011</td>\n",
       "      <td>-0.032114</td>\n",
       "      <td>-0.036737</td>\n",
       "    </tr>\n",
       "  </tbody>\n",
       "</table>\n",
       "</div>"
      ],
      "text/plain": [
       "            VTI_close  BTC_close (USD)  ETH_close (USD)  VTI_Lag1\n",
       "date                                                             \n",
       "2022-04-21  -0.016348        -0.021234        -0.030058 -0.001294\n",
       "2022-04-22  -0.027245        -0.019042        -0.007102 -0.016348\n",
       "2022-04-23  -0.027245        -0.006738        -0.009911 -0.027245\n",
       "2022-04-24  -0.027245         0.000216        -0.004102 -0.027245\n",
       "2022-04-25  -0.027245         0.024739         0.029312 -0.027245\n",
       "2022-04-26  -0.028506        -0.057226        -0.065505 -0.027245\n",
       "2022-04-27   0.001959         0.029467         0.028220 -0.028506\n",
       "2022-04-28   0.024373         0.012905         0.016605  0.001959\n",
       "2022-04-29  -0.036737        -0.028835        -0.040791  0.024373\n",
       "2022-04-30  -0.036737        -0.025011        -0.032114 -0.036737"
      ]
     },
     "execution_count": 21,
     "metadata": {},
     "output_type": "execute_result"
    }
   ],
   "source": [
    "R.tail(10)"
   ]
  },
  {
   "cell_type": "code",
   "execution_count": 22,
   "id": "a04e1b81-50a9-4217-9038-7e9c0abbc7e8",
   "metadata": {},
   "outputs": [
    {
     "data": {
      "text/html": [
       "<div>\n",
       "<style scoped>\n",
       "    .dataframe tbody tr th:only-of-type {\n",
       "        vertical-align: middle;\n",
       "    }\n",
       "\n",
       "    .dataframe tbody tr th {\n",
       "        vertical-align: top;\n",
       "    }\n",
       "\n",
       "    .dataframe thead th {\n",
       "        text-align: right;\n",
       "    }\n",
       "</style>\n",
       "<table border=\"1\" class=\"dataframe\">\n",
       "  <thead>\n",
       "    <tr style=\"text-align: right;\">\n",
       "      <th></th>\n",
       "      <th>VTI_close</th>\n",
       "      <th>BTC_close (USD)</th>\n",
       "      <th>ETH_close (USD)</th>\n",
       "      <th>VTI_Lag1</th>\n",
       "    </tr>\n",
       "  </thead>\n",
       "  <tbody>\n",
       "    <tr>\n",
       "      <th>VTI_close</th>\n",
       "      <td>1.000000</td>\n",
       "      <td>0.311352</td>\n",
       "      <td>0.302602</td>\n",
       "      <td>0.119671</td>\n",
       "    </tr>\n",
       "    <tr>\n",
       "      <th>BTC_close (USD)</th>\n",
       "      <td>0.311352</td>\n",
       "      <td>1.000000</td>\n",
       "      <td>0.832605</td>\n",
       "      <td>-0.026216</td>\n",
       "    </tr>\n",
       "    <tr>\n",
       "      <th>ETH_close (USD)</th>\n",
       "      <td>0.302602</td>\n",
       "      <td>0.832605</td>\n",
       "      <td>1.000000</td>\n",
       "      <td>-0.032457</td>\n",
       "    </tr>\n",
       "    <tr>\n",
       "      <th>VTI_Lag1</th>\n",
       "      <td>0.119671</td>\n",
       "      <td>-0.026216</td>\n",
       "      <td>-0.032457</td>\n",
       "      <td>1.000000</td>\n",
       "    </tr>\n",
       "  </tbody>\n",
       "</table>\n",
       "</div>"
      ],
      "text/plain": [
       "                 VTI_close  BTC_close (USD)  ETH_close (USD)  VTI_Lag1\n",
       "VTI_close         1.000000         0.311352         0.302602  0.119671\n",
       "BTC_close (USD)   0.311352         1.000000         0.832605 -0.026216\n",
       "ETH_close (USD)   0.302602         0.832605         1.000000 -0.032457\n",
       "VTI_Lag1          0.119671        -0.026216        -0.032457  1.000000"
      ]
     },
     "execution_count": 22,
     "metadata": {},
     "output_type": "execute_result"
    }
   ],
   "source": [
    "# Don't include common days where equity return didn't occur the immediate day before: sun and mon\n",
    "R.loc[weekday_nind(R.index.dayofweek, [6, 0])].corr()"
   ]
  },
  {
   "cell_type": "markdown",
   "id": "b6403110-3674-47b3-adb6-56844e9b1524",
   "metadata": {},
   "source": [
    "# Visualize.\n",
    "---"
   ]
  },
  {
   "cell_type": "code",
   "execution_count": 23,
   "id": "1e07fa07-ff16-4ec3-b3b4-ae25b4a8545a",
   "metadata": {},
   "outputs": [
    {
     "data": {
      "image/png": "[encoded data removed]",
      "text/plain": [
       "<Figure size 1440x576 with 1 Axes>"
      ]
     },
     "metadata": {
      "needs_background": "light"
     },
     "output_type": "display_data"
    }
   ],
   "source": [
    "X = R.loc[(weekday_nind(R.index.dayofweek, [6, 0])) & (R.index >= np.datetime64('2020-01-01'))].reset_index()\n",
    "\n",
    "plt.plot(X.date, X['VTI_Lag1'], color='red', linewidth=1, label='VTI')\n",
    "plt.plot(X.date, X['BTC_close (USD)'], color='blue', linewidth=0.5, label='BTC')\n",
    "plt.plot(X.date, X['ETH_close (USD)'], color='green', linewidth=0.5, label='ETH')\n",
    "plt.xticks(rotation=45)\n",
    "plt.xlabel('Date')\n",
    "plt.ylabel('% Chg')\n",
    "plt.title('Daily Crypto Return ~ Prior Day Equity Return')\n",
    "plt.legend()\n",
    "plt.show()"
   ]
  },
  {
   "cell_type": "code",
   "execution_count": 24,
   "id": "00770cba-422a-401e-b2cd-3588004ddf52",
   "metadata": {},
   "outputs": [
    {
     "data": {
      "image/png": "[encoded data removed]",
      "text/plain": [
       "<Figure size 1440x576 with 1 Axes>"
      ]
     },
     "metadata": {
      "needs_background": "light"
     },
     "output_type": "display_data"
    }
   ],
   "source": [
    "m, b = np.polyfit(X['VTI_Lag1'], X['BTC_close (USD)'], 1)\n",
    "plt.scatter(X['VTI_Lag1'], X['BTC_close (USD)'])\n",
    "plt.plot(X['VTI_Lag1'], m*X['VTI_Lag1'] + b, color='red')\n",
    "plt.title('BTC ~ Prior VTI')\n",
    "plt.show()"
   ]
  },
  {
   "cell_type": "code",
   "execution_count": 25,
   "id": "32b32479-d1a2-44d8-acea-46cb13aa8252",
   "metadata": {},
   "outputs": [
    {
     "data": {
      "image/png": "[encoded data removed]",
      "text/plain": [
       "<Figure size 1440x576 with 1 Axes>"
      ]
     },
     "metadata": {
      "needs_background": "light"
     },
     "output_type": "display_data"
    }
   ],
   "source": [
    "m, b = np.polyfit(X['VTI_Lag1'], X['ETH_close (USD)'], 1)\n",
    "plt.scatter(X['VTI_Lag1'], X['ETH_close (USD)'])\n",
    "plt.plot(X['VTI_Lag1'], m*X['VTI_Lag1'] + b, color='red')\n",
    "plt.title('ETH ~ Prior VTI')\n",
    "plt.show()"
   ]
  }
 ],
 "metadata": {
  "kernelspec": {
   "display_name": "Python 3 (ipykernel)",
   "language": "python",
   "name": "python3"
  },
  "language_info": {
   "codemirror_mode": {
    "name": "ipython",
    "version": 3
   },
   "file_extension": ".py",
   "mimetype": "text/x-python",
   "name": "python",
   "nbconvert_exporter": "python",
   "pygments_lexer": "ipython3",
   "version": "3.9.7"
  }
 },
 "nbformat": 4,
 "nbformat_minor": 5
}
